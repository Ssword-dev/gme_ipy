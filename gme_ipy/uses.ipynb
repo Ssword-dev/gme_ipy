{
 "cells": [
  {
   "cell_type": "code",
   "execution_count": 2,
   "metadata": {},
   "outputs": [
    {
     "ename": "ModuleNotFoundError",
     "evalue": "No module named 'gme_ipy'",
     "output_type": "error",
     "traceback": [
      "\u001b[1;31m---------------------------------------------------------------------------\u001b[0m",
      "\u001b[1;31mModuleNotFoundError\u001b[0m                       Traceback (most recent call last)",
      "Cell \u001b[1;32mIn[2], line 1\u001b[0m\n\u001b[1;32m----> 1\u001b[0m \u001b[38;5;28;01mimport\u001b[39;00m \u001b[38;5;21;01mgme_ipy\u001b[39;00m\n\u001b[0;32m      3\u001b[0m \u001b[38;5;28;01mif\u001b[39;00m \u001b[38;5;18m__name__\u001b[39m \u001b[38;5;241m==\u001b[39m \u001b[38;5;124m'\u001b[39m\u001b[38;5;124m__main__\u001b[39m\u001b[38;5;124m'\u001b[39m:\n\u001b[0;32m      4\u001b[0m     \u001b[38;5;66;03m# Reading a file\u001b[39;00m\n\u001b[0;32m      5\u001b[0m     file_content \u001b[38;5;241m=\u001b[39m gme_ipy\u001b[38;5;241m.\u001b[39mConnect\u001b[38;5;241m.\u001b[39mFileRead\u001b[38;5;241m.\u001b[39mFileReader\u001b[38;5;241m.\u001b[39mreadfile(\u001b[38;5;124m\"\u001b[39m\u001b[38;5;124mLisence.txt\u001b[39m\u001b[38;5;124m\"\u001b[39m,\u001b[38;5;124m\"\u001b[39m\u001b[38;5;124mlocal file\u001b[39m\u001b[38;5;124m\"\u001b[39m)\n",
      "\u001b[1;31mModuleNotFoundError\u001b[0m: No module named 'gme_ipy'"
     ]
    }
   ],
   "source": [
    "import gme_ipy\n",
    "\n",
    "if __name__ == '__main__':\n",
    "    # Reading a file\n",
    "    file_content = gme_ipy.Connect.FileRead.FileReader.readfile(\"Lisence.txt\",\"local file\")\n",
    "    print(file_content)\n",
    "    # Writing a file\n",
    "    file_write = gme_ipy.Connect.FileRead.FileWriter.file_write(filename=\"Testing.txt\",\n",
    " path=f\"{gme_ipy.Connect.FileRead.FileWriter.User}/Downloads/\")\n",
    "    print(file_write) # prints true if the file was successfully created\n",
    "    "
   ]
  }
 ],
 "metadata": {
  "kernelspec": {
   "display_name": "Python 3",
   "language": "python",
   "name": "python3"
  },
  "language_info": {
   "codemirror_mode": {
    "name": "ipython",
    "version": 3
   },
   "file_extension": ".py",
   "mimetype": "text/x-python",
   "name": "python",
   "nbconvert_exporter": "python",
   "pygments_lexer": "ipython3",
   "version": "3.12.4"
  }
 },
 "nbformat": 4,
 "nbformat_minor": 2
}
